{
 "cells": [
  {
   "cell_type": "markdown",
   "metadata": {},
   "source": [
    "## Set up and execute a calls to `GetData()` function"
   ]
  },
  {
   "cell_type": "code",
   "execution_count": 1,
   "metadata": {
    "collapsed": true
   },
   "outputs": [],
   "source": [
    "import sys\n",
    "sys.path.append(\"../\")\n",
    "from devices import supportedDevices, getLayout\n",
    "from QuantumAwesomeness import *"
   ]
  },
  {
   "cell_type": "markdown",
   "metadata": {},
   "source": [
    "Specify the device you want to use (*device*) and whether you want data for a simulation, the real device, or both (*sims_to_use*)."
   ]
  },
  {
   "cell_type": "code",
   "execution_count": 2,
   "metadata": {
    "collapsed": true
   },
   "outputs": [],
   "source": [
    "device = 'ibmqx4'\n",
    "sims_to_use = [False]"
   ]
  },
  {
   "cell_type": "markdown",
   "metadata": {},
   "source": [
    "Get the data for the requested instances."
   ]
  },
  {
   "cell_type": "code",
   "execution_count": null,
   "metadata": {
    "scrolled": false
   },
   "outputs": [
    {
     "name": "stdout",
     "output_type": "stream",
     "text": [
      "move=C, shots=8192, sample=1\n",
      "Status of device: {'available': True, 'pending_jobs': 14, 'name': 'ibmqx4'}\n",
      "Status of device: {'available': True, 'pending_jobs': 14, 'name': 'ibmqx4'}\n",
      "Status of device: {'available': True, 'pending_jobs': 14, 'name': 'ibmqx4'}\n",
      "Status of device: {'available': True, 'pending_jobs': 14, 'name': 'ibmqx4'}\n",
      "Status of device: {'available': True, 'pending_jobs': 15, 'name': 'ibmqx4'}\n",
      "Status of device: {'available': True, 'pending_jobs': 16, 'name': 'ibmqx4'}\n",
      "Status of device: {'available': True, 'pending_jobs': 24, 'name': 'ibmqx4'}\n",
      "Status of device: {'available': True, 'pending_jobs': 26, 'name': 'ibmqx4'}\n",
      "Status of device: {'available': True, 'pending_jobs': 30, 'name': 'ibmqx4'}\n",
      "Status of device: {'available': True, 'pending_jobs': 34, 'name': 'ibmqx4'}\n",
      "move=C, shots=8192, sample=2\n",
      "Status of device: {'available': True, 'pending_jobs': 39, 'name': 'ibmqx4'}\n",
      "Status of device: {'available': True, 'pending_jobs': 38, 'name': 'ibmqx4'}\n",
      "Status of device: {'available': True, 'pending_jobs': 38, 'name': 'ibmqx4'}\n",
      "Status of device: {'available': True, 'pending_jobs': 37, 'name': 'ibmqx4'}\n",
      "Status of device: {'available': True, 'pending_jobs': 39, 'name': 'ibmqx4'}\n",
      "Status of device: {'available': True, 'pending_jobs': 37, 'name': 'ibmqx4'}\n",
      "Status of device: {'available': True, 'pending_jobs': 46, 'name': 'ibmqx4'}\n",
      "Status of device: {'available': True, 'pending_jobs': 44, 'name': 'ibmqx4'}\n",
      "Status of device: {'available': True, 'pending_jobs': 45, 'name': 'ibmqx4'}\n",
      "Status of device: {'available': True, 'pending_jobs': 45, 'name': 'ibmqx4'}\n",
      "move=C, shots=8192, sample=3\n",
      "Status of device: {'available': True, 'pending_jobs': 44, 'name': 'ibmqx4'}\n",
      "Status of device: {'available': True, 'pending_jobs': 43, 'name': 'ibmqx4'}\n",
      "Status of device: {'available': True, 'pending_jobs': 46, 'name': 'ibmqx4'}\n",
      "Status of device: {'available': True, 'pending_jobs': 48, 'name': 'ibmqx4'}\n",
      "Status of device: {'available': True, 'pending_jobs': 46, 'name': 'ibmqx4'}\n",
      "Status of device: {'available': True, 'pending_jobs': 47, 'name': 'ibmqx4'}\n",
      "Status of device: {'available': True, 'pending_jobs': 47, 'name': 'ibmqx4'}\n",
      "Status of device: {'available': True, 'pending_jobs': 46, 'name': 'ibmqx4'}\n",
      "Status of device: {'available': True, 'pending_jobs': 46, 'name': 'ibmqx4'}\n",
      "Status of device: {'available': True, 'pending_jobs': 46, 'name': 'ibmqx4'}\n",
      "move=C, shots=8192, sample=4\n",
      "Status of device: {'available': True, 'pending_jobs': 49, 'name': 'ibmqx4'}\n",
      "Status of device: {'available': True, 'pending_jobs': 49, 'name': 'ibmqx4'}\n",
      "Status of device: {'available': True, 'pending_jobs': 52, 'name': 'ibmqx4'}\n",
      "Status of device: {'available': True, 'pending_jobs': 52, 'name': 'ibmqx4'}\n",
      "Status of device: {'available': True, 'pending_jobs': 68, 'name': 'ibmqx4'}\n",
      "Status of device: {'available': True, 'pending_jobs': 68, 'name': 'ibmqx4'}\n",
      "Status of device: {'available': True, 'pending_jobs': 54, 'name': 'ibmqx4'}\n"
     ]
    }
   ],
   "source": [
    "num, area, entangleType, pairs, pos, example, sdk, runs = getLayout(device)\n",
    "\n",
    "for sim in sims_to_use:\n",
    "    for move in runs[sim]['move']:\n",
    "        for shots in runs[sim]['shots']:\n",
    "            GetData( device, move, shots, sim, runs[sim]['samples'], runs[sim]['maxScore'] )"
   ]
  }
 ],
 "metadata": {
  "kernelspec": {
   "display_name": "Python 3",
   "language": "python",
   "name": "python3"
  },
  "language_info": {
   "codemirror_mode": {
    "name": "ipython",
    "version": 3
   },
   "file_extension": ".py",
   "mimetype": "text/x-python",
   "name": "python",
   "nbconvert_exporter": "python",
   "pygments_lexer": "ipython3",
   "version": "3.6.0"
  }
 },
 "nbformat": 4,
 "nbformat_minor": 2
}
