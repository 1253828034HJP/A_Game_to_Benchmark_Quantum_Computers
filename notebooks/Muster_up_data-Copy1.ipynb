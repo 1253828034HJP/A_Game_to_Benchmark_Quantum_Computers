{
 "cells": [
  {
   "cell_type": "markdown",
   "metadata": {},
   "source": [
    "## Get data for example devices"
   ]
  },
  {
   "cell_type": "code",
   "execution_count": null,
   "metadata": {
    "collapsed": true
   },
   "outputs": [],
   "source": [
    "import sys\n",
    "sys.path.append(\"../\")\n",
    "from devices import supportedDevices, getLayout\n",
    "from QuantumAwesomeness import *"
   ]
  },
  {
   "cell_type": "markdown",
   "metadata": {},
   "source": [
    "Specify the type of device you want to look at (line, square grid, etc)."
   ]
  },
  {
   "cell_type": "code",
   "execution_count": null,
   "metadata": {
    "scrolled": false
   },
   "outputs": [
    {
     "name": "stdout",
     "output_type": "stream",
     "text": [
      "move=C, shots=100, sample=1\n",
      "move=C, shots=100, sample=2\n",
      "move=C, shots=100, sample=3\n",
      "move=C, shots=100, sample=4\n",
      "move=C, shots=100, sample=5\n",
      "move=C, shots=100, sample=6\n",
      "move=C, shots=100, sample=7\n"
     ]
    }
   ],
   "source": [
    "sim = True\n",
    "device_type = 'ladder' # should be line, ladder, square or web\n",
    "\n",
    "num_for_type = {'line':[5,11,15,19],'ladder':[4,10,16,20],'square':[4,9,16],'web':[5,11,16,19]}\n",
    "\n",
    "for n in num_for_type[device_type]:\n",
    "    \n",
    "    device = device_type + str(n)\n",
    "\n",
    "    num, area, entangleType, pairs, pos, example, sdk, runs = getLayout(device)\n",
    "\n",
    "    for move in runs[sim]['move']:\n",
    "        for shots in runs[sim]['shots']:\n",
    "            GetData( device, move, shots, sim, runs[sim]['samples'], runs[sim]['maxScore'] )"
   ]
  },
  {
   "cell_type": "code",
   "execution_count": null,
   "metadata": {
    "collapsed": true
   },
   "outputs": [],
   "source": []
  }
 ],
 "metadata": {
  "kernelspec": {
   "display_name": "Python 3",
   "language": "python",
   "name": "python3"
  },
  "language_info": {
   "codemirror_mode": {
    "name": "ipython",
    "version": 3
   },
   "file_extension": ".py",
   "mimetype": "text/x-python",
   "name": "python",
   "nbconvert_exporter": "python",
   "pygments_lexer": "ipython3",
   "version": "3.6.0"
  }
 },
 "nbformat": 4,
 "nbformat_minor": 2
}
