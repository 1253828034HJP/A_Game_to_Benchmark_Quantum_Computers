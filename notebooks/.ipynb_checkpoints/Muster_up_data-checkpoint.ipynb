{
 "cells": [
  {
   "cell_type": "markdown",
   "metadata": {},
   "source": [
    "## Get data for example devices"
   ]
  },
  {
   "cell_type": "code",
   "execution_count": 1,
   "metadata": {},
   "outputs": [
    {
     "ename": "IndentationError",
     "evalue": "unexpected unindent (QuantumAwesomeness.py, line 32)",
     "output_type": "error",
     "traceback": [
      "\u001b[0;36m  File \u001b[0;32m\"../QuantumAwesomeness.py\"\u001b[0;36m, line \u001b[0;32m32\u001b[0m\n\u001b[0;31m    elif sdk==\"ProjectQ\":\u001b[0m\n\u001b[0m    ^\u001b[0m\n\u001b[0;31mIndentationError\u001b[0m\u001b[0;31m:\u001b[0m unexpected unindent\n"
     ]
    }
   ],
   "source": [
    "import sys\n",
    "sys.path.append(\"../\")\n",
    "from devices import supportedDevices, getLayout\n",
    "from QuantumAwesomeness import *"
   ]
  },
  {
   "cell_type": "markdown",
   "metadata": {},
   "source": [
    "Specify the type of device you want to look at (line, square grid, etc)."
   ]
  },
  {
   "cell_type": "code",
   "execution_count": null,
   "metadata": {
    "scrolled": false
   },
   "outputs": [],
   "source": [
    "sim = True\n",
    "device_type = 'line' # should be line, ladder, square or web\n",
    "\n",
    "num_for_type = {'line':[5,11,15,19],'ladder':[4,10,16,20],'square':[4,9,16],'web':[5,11,16,19]}\n",
    "\n",
    "for n in num_for_type[device_type]:\n",
    "    \n",
    "    device = device_type + str(n)\n",
    "\n",
    "    num, area, entangleType, pairs, pos, example, sdk, runs = getLayout(device)\n",
    "\n",
    "    for move in runs[sim]['move']:\n",
    "        for shots in runs[sim]['shots']:\n",
    "            GetData( device, move, shots, sim, runs[sim]['samples'], runs[sim]['maxScore'] )"
   ]
  },
  {
   "cell_type": "code",
   "execution_count": null,
   "metadata": {
    "collapsed": true
   },
   "outputs": [],
   "source": []
  }
 ],
 "metadata": {
  "kernelspec": {
   "display_name": "Python 3",
   "language": "python",
   "name": "python3"
  },
  "language_info": {
   "codemirror_mode": {
    "name": "ipython",
    "version": 3
   },
   "file_extension": ".py",
   "mimetype": "text/x-python",
   "name": "python",
   "nbconvert_exporter": "python",
   "pygments_lexer": "ipython3",
   "version": "3.6.0"
  }
 },
 "nbformat": 4,
 "nbformat_minor": 2
}
