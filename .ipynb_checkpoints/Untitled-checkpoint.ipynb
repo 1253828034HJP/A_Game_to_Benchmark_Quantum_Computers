{
 "cells": [
  {
   "cell_type": "code",
   "execution_count": 17,
   "metadata": {},
   "outputs": [],
   "source": [
    "def resultsLoad ( folder, fileType, move, shots, sim, device ) :\n",
    "    \n",
    "    filename = folder+fileType+'_'+'move='+move+'_shots=' + str(shots) + '_sim=' + str(sim) + '.txt'\n",
    "    print(filename)\n",
    "    saveFile = open('results_' + device + '/'+filename)\n",
    "    sampleStrings = saveFile.readlines()\n",
    "    saveFile.close()\n",
    "    \n",
    "    samples = []\n",
    "    for sampleString in sampleStrings:\n",
    "        samples.append( eval( sampleString ) )\n",
    "    \n",
    "    return samples"
   ]
  },
  {
   "cell_type": "code",
   "execution_count": 21,
   "metadata": {},
   "outputs": [
    {
     "name": "stdout",
     "output_type": "stream",
     "text": [
      "oneProbs_move=R_shots=10000_sim=False.txt\n",
      "Sample number: 40\n",
      "maxScore number: 5 \n",
      "\n"
     ]
    }
   ],
   "source": [
    "for folder in ['','maxScore=5/','maxScore=10/']:\n",
    "    for fileType in ['oneProbs']:#['conjugates','gates','oneProbs','sameProbs']:\n",
    "\n",
    "        file = resultsLoad ( folder, fileType, 'C', 10000, False, '19Q-Acorn' )\n",
    "\n",
    "        print(\"Sample number:\",len(file))\n",
    "        print(\"maxScore number:\",len(file[0]),'\\n')\n",
    "\n"
   ]
  },
  {
   "cell_type": "code",
   "execution_count": null,
   "metadata": {
    "collapsed": true
   },
   "outputs": [],
   "source": []
  },
  {
   "cell_type": "code",
   "execution_count": null,
   "metadata": {
    "collapsed": true
   },
   "outputs": [],
   "source": []
  }
 ],
 "metadata": {
  "kernelspec": {
   "display_name": "Python 3",
   "language": "python",
   "name": "python3"
  },
  "language_info": {
   "codemirror_mode": {
    "name": "ipython",
    "version": 3
   },
   "file_extension": ".py",
   "mimetype": "text/x-python",
   "name": "python",
   "nbconvert_exporter": "python",
   "pygments_lexer": "ipython3",
   "version": "3.6.0"
  }
 },
 "nbformat": 4,
 "nbformat_minor": 2
}
