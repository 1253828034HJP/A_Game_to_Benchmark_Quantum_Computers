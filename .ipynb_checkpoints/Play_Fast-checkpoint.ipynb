{
 "cells": [
  {
   "cell_type": "markdown",
   "metadata": {},
   "source": [
    "This notebook is for those who know how to call the *runGame* function directly."
   ]
  },
  {
   "cell_type": "code",
   "execution_count": null,
   "metadata": {
    "collapsed": true
   },
   "outputs": [],
   "source": [
    "from devices import *\n",
    "from QuantumAwesomeness import *\n",
    "%matplotlib inline"
   ]
  },
  {
   "cell_type": "code",
   "execution_count": null,
   "metadata": {
    "collapsed": false,
    "scrolled": false
   },
   "outputs": [
    {
     "name": "stdout",
     "output_type": "stream",
     "text": [
      "OPENQASM 2.0;\n",
      "include \"qelib1.inc\";\n",
      "qreg q0[16];\n",
      "creg c0[16];\n",
      "h q0[4];\n",
      "cz q0[0],q0[4];\n",
      "u3(1.37559540862401,-1.57079632679490,1.57079632679490) q0[0];\n",
      "cz q0[0],q0[4];\n",
      "h q0[4];\n",
      "h q0[2];\n",
      "cz q0[1],q0[2];\n",
      "u3(0.593094119661213,-1.57079632679490,1.57079632679490) q0[1];\n",
      "cz q0[1],q0[2];\n",
      "h q0[2];\n",
      "h q0[7];\n",
      "cz q0[3],q0[7];\n",
      "u3(1.46487283939381,-1.57079632679490,1.57079632679490) q0[3];\n",
      "cz q0[3],q0[7];\n",
      "h q0[7];\n",
      "h q0[6];\n",
      "cz q0[5],q0[6];\n",
      "u3(0.550388219087209,-1.57079632679490,1.57079632679490) q0[5];\n",
      "cz q0[5],q0[6];\n",
      "h q0[6];\n",
      "h q0[12];\n",
      "cz q0[8],q0[12];\n",
      "u3(1.29810164146235,-1.57079632679490,1.57079632679490) q0[8];\n",
      "cz q0[8],q0[12];\n",
      "h q0[12];\n",
      "h q0[13];\n",
      "cz q0[9],q0[13];\n",
      "u3(0.374177167900239,-1.57079632679490,1.57079632679490) q0[9];\n",
      "cz q0[9],q0[13];\n",
      "h q0[13];\n",
      "h q0[14];\n",
      "cz q0[10],q0[14];\n",
      "u3(1.22599902577330,-1.57079632679490,1.57079632679490) q0[10];\n",
      "cz q0[10],q0[14];\n",
      "h q0[14];\n",
      "h q0[15];\n",
      "cz q0[11],q0[15];\n",
      "u3(0.261738171000398,-1.57079632679490,1.57079632679490) q0[11];\n",
      "cz q0[11],q0[15];\n",
      "h q0[15];\n",
      "measure q0[0] -> c0[0];\n",
      "measure q0[1] -> c0[1];\n",
      "measure q0[2] -> c0[2];\n",
      "measure q0[3] -> c0[3];\n",
      "measure q0[4] -> c0[4];\n",
      "measure q0[5] -> c0[5];\n",
      "measure q0[6] -> c0[6];\n",
      "measure q0[7] -> c0[7];\n",
      "measure q0[8] -> c0[8];\n",
      "measure q0[9] -> c0[9];\n",
      "measure q0[10] -> c0[10];\n",
      "measure q0[11] -> c0[11];\n",
      "measure q0[12] -> c0[12];\n",
      "measure q0[13] -> c0[13];\n",
      "measure q0[14] -> c0[14];\n",
      "measure q0[15] -> c0[15];\n",
      "\n"
     ]
    }
   ],
   "source": [
    "while True:\n",
    "    sim = True\n",
    "    maxScore = 10\n",
    "    runGame( 'square9', 'M', 8192, sim, maxScore, dataNeeded=True, clean=(not sim) )"
   ]
  },
  {
   "cell_type": "code",
   "execution_count": null,
   "metadata": {
    "collapsed": true
   },
   "outputs": [],
   "source": []
  }
 ],
 "metadata": {
  "kernelspec": {
   "display_name": "Python 3",
   "language": "python",
   "name": "python3"
  },
  "language_info": {
   "codemirror_mode": {
    "name": "ipython",
    "version": 3
   },
   "file_extension": ".py",
   "mimetype": "text/x-python",
   "name": "python",
   "nbconvert_exporter": "python",
   "pygments_lexer": "ipython3",
   "version": "3.6.0"
  }
 },
 "nbformat": 4,
 "nbformat_minor": 2
}
