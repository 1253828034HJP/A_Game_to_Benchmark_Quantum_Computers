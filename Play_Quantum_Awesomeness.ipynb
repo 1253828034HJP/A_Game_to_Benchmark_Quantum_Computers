{
 "cells": [
  {
   "cell_type": "code",
   "execution_count": null,
   "metadata": {
    "collapsed": false,
    "scrolled": false
   },
   "outputs": [
    {
     "name": "stdout",
     "output_type": "stream",
     "text": [
      "\n",
      "\n",
      "            __   _  _   __   __ _  ____  _  _  _  _               \n",
      "           /  \\ / )( \\ / _\\ (  ( \\(_  _)/ )( \\( \\/ )              \n",
      "          (  O )) \\/ (/    \\/    /  )(  ) \\/ (/ \\/ \\              \n",
      "           \\__\\)\\____/\\_/\\_/\\_)__) (__) \\____/\\_)(_/              \n",
      "  __   _  _  ____  ____   __   _  _  ____  __ _  ____  ____  ____ \n",
      " / _\\ / )( \\(  __)/ ___) /  \\ ( \\/ )(  __)(  ( \\(  __)/ ___)/ ___)\n",
      "/    \\\\ /\\ / ) _) \\___ \\(  O )/ \\/ \\ ) _) /    / ) _) \\___ \\\\___ \\\n",
      "\\_/\\_/(_/\\_)(____)(____/ \\__/ \\_)(_/(____)\\_)__)(____)(____/(____/\n",
      "\n",
      "            A GAME TO BENCHMARK QUANTUM COMPUTERS\n",
      "                     by James R. Wootton\n",
      "                University of Basel/Decodoku\n",
      "\n",
      "\n"
     ]
    }
   ],
   "source": [
    "from devices import *\n",
    "from QuantumAwesomeness import *\n",
    "%matplotlib inline\n",
    "while True:\n",
    "    PlayGame()"
   ]
  }
 ],
 "metadata": {
  "kernelspec": {
   "display_name": "Python 3",
   "language": "python",
   "name": "python3"
  },
  "language_info": {
   "codemirror_mode": {
    "name": "ipython",
    "version": 3
   },
   "file_extension": ".py",
   "mimetype": "text/x-python",
   "name": "python",
   "nbconvert_exporter": "python",
   "pygments_lexer": "ipython3",
   "version": "3.6.0"
  }
 },
 "nbformat": 4,
 "nbformat_minor": 2
}
